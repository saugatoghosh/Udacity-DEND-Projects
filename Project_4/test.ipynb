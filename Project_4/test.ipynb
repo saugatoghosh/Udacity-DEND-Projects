{
 "cells": [
  {
   "cell_type": "code",
   "execution_count": 1,
   "metadata": {},
   "outputs": [],
   "source": [
    "import findspark\n",
    "findspark.init('/home/ubuntu/spark-2.4.3-bin-hadoop2.7')"
   ]
  },
  {
   "cell_type": "code",
   "execution_count": 2,
   "metadata": {},
   "outputs": [],
   "source": [
    "import configparser\n",
    "import os\n",
    "from pyspark.sql import SparkSession\n"
   ]
  },
  {
   "cell_type": "code",
   "execution_count": 3,
   "metadata": {},
   "outputs": [],
   "source": [
    "input_data = \"s3a://udacity-dend/\"\n",
    "output_data = \"s3a://sougata-dend\""
   ]
  },
  {
   "cell_type": "code",
   "execution_count": 4,
   "metadata": {},
   "outputs": [],
   "source": [
    "config = configparser.ConfigParser()\n",
    "config.read('dl.cfg')\n",
    "\n",
    "os.environ['AWS_ACCESS_KEY_ID']=config['AWS']['AWS_ACCESS_KEY_ID']\n",
    "os.environ['AWS_SECRET_ACCESS_KEY']=config['AWS']['AWS_SECRET_ACCESS_KEY']"
   ]
  },
  {
   "cell_type": "code",
   "execution_count": 5,
   "metadata": {},
   "outputs": [],
   "source": [
    "def create_spark_session():\n",
    "    spark = SparkSession \\\n",
    "        .builder \\\n",
    "        .config(\"spark.jars.packages\", \"org.apache.hadoop:hadoop-aws:2.7.0\") \\\n",
    "        .getOrCreate()\n",
    "    return spark"
   ]
  },
  {
   "cell_type": "code",
   "execution_count": 6,
   "metadata": {},
   "outputs": [],
   "source": [
    "spark = create_spark_session()"
   ]
  },
  {
   "cell_type": "markdown",
   "metadata": {},
   "source": [
    "**Testing with tables created from a single song file and a single log file**"
   ]
  },
  {
   "cell_type": "code",
   "execution_count": 7,
   "metadata": {},
   "outputs": [],
   "source": [
    "songs = spark.read.parquet(os.path.join(output_data, \"songs\"))"
   ]
  },
  {
   "cell_type": "code",
   "execution_count": 8,
   "metadata": {},
   "outputs": [
    {
     "name": "stdout",
     "output_type": "stream",
     "text": [
      "+------------------+-------------------+---------+----+------------------+\n",
      "|           song_id|              title| duration|year|         artist_id|\n",
      "+------------------+-------------------+---------+----+------------------+\n",
      "|SOUPIRU12A6D4FA1E1|Der Kleine Dompfaff|152.92036|   0|ARJIE2Y1187B994AB7|\n",
      "+------------------+-------------------+---------+----+------------------+\n",
      "\n"
     ]
    }
   ],
   "source": [
    "songs.show()"
   ]
  },
  {
   "cell_type": "code",
   "execution_count": 9,
   "metadata": {},
   "outputs": [
    {
     "data": {
      "text/plain": [
       "1"
      ]
     },
     "execution_count": 9,
     "metadata": {},
     "output_type": "execute_result"
    }
   ],
   "source": [
    "songs.count()"
   ]
  },
  {
   "cell_type": "code",
   "execution_count": 10,
   "metadata": {},
   "outputs": [
    {
     "name": "stdout",
     "output_type": "stream",
     "text": [
      "root\n",
      " |-- song_id: string (nullable = true)\n",
      " |-- title: string (nullable = true)\n",
      " |-- duration: double (nullable = true)\n",
      " |-- year: integer (nullable = true)\n",
      " |-- artist_id: string (nullable = true)\n",
      "\n"
     ]
    }
   ],
   "source": [
    "songs.printSchema()"
   ]
  },
  {
   "cell_type": "code",
   "execution_count": 11,
   "metadata": {},
   "outputs": [],
   "source": [
    "artists= spark.read.parquet(os.path.join(output_data, \"artists\"))"
   ]
  },
  {
   "cell_type": "code",
   "execution_count": 12,
   "metadata": {},
   "outputs": [
    {
     "name": "stdout",
     "output_type": "stream",
     "text": [
      "+------------------+-----------+--------+--------+---------+\n",
      "|         artist_id|       name|location|latitude|longitude|\n",
      "+------------------+-----------+--------+--------+---------+\n",
      "|ARJIE2Y1187B994AB7|Line Renaud|        |    null|     null|\n",
      "+------------------+-----------+--------+--------+---------+\n",
      "\n"
     ]
    }
   ],
   "source": [
    "artists.show()"
   ]
  },
  {
   "cell_type": "code",
   "execution_count": 12,
   "metadata": {},
   "outputs": [
    {
     "data": {
      "text/plain": [
       "1"
      ]
     },
     "execution_count": 12,
     "metadata": {},
     "output_type": "execute_result"
    }
   ],
   "source": [
    "artists.count()"
   ]
  },
  {
   "cell_type": "code",
   "execution_count": 13,
   "metadata": {},
   "outputs": [
    {
     "name": "stdout",
     "output_type": "stream",
     "text": [
      "root\n",
      " |-- artist_id: string (nullable = true)\n",
      " |-- name: string (nullable = true)\n",
      " |-- location: string (nullable = true)\n",
      " |-- latitude: string (nullable = true)\n",
      " |-- longitude: string (nullable = true)\n",
      "\n"
     ]
    }
   ],
   "source": [
    "artists.printSchema()"
   ]
  },
  {
   "cell_type": "code",
   "execution_count": 13,
   "metadata": {},
   "outputs": [],
   "source": [
    "users = spark.read.parquet(os.path.join(output_data, \"users\"))"
   ]
  },
  {
   "cell_type": "code",
   "execution_count": 14,
   "metadata": {},
   "outputs": [
    {
     "name": "stdout",
     "output_type": "stream",
     "text": [
      "+-------+----------+---------+------+-----+\n",
      "|user_id|first_name|last_name|gender|level|\n",
      "+-------+----------+---------+------+-----+\n",
      "|     88|  Mohammad|Rodriguez|     M| free|\n",
      "|     29|Jacqueline|    Lynch|     F| paid|\n",
      "|     14|  Theodore|   Harris|     M| free|\n",
      "|     55|    Martin|  Johnson|     M| free|\n",
      "|     66|     Kevin| Arellano|     M| free|\n",
      "|     25|    Jayden|   Graves|     M| paid|\n",
      "|     83|   Stefany|    White|     F| free|\n",
      "|      6|   Cecilia|    Owens|     F| free|\n",
      "|     60|     Devin|   Larson|     M| free|\n",
      "|     44|    Aleena|    Kirby|     F| paid|\n",
      "|     37|    Jordan|    Hicks|     F| free|\n",
      "|     49|     Chloe|   Cuevas|     F| free|\n",
      "|     76|    Jayden|    Duffy|     F| free|\n",
      "|     80|     Tegan|   Levine|     F| paid|\n",
      "|     95|      Sara|  Johnson|     F| paid|\n",
      "|     97|      Kate|  Harrell|     F| paid|\n",
      "|     67|      Colm|  Santana|     M| free|\n",
      "|     63|      Ayla|  Johnson|     F| free|\n",
      "|     50|       Ava| Robinson|     F| free|\n",
      "|     94|      Noah|   Chavez|     M| free|\n",
      "+-------+----------+---------+------+-----+\n",
      "only showing top 20 rows\n",
      "\n"
     ]
    }
   ],
   "source": [
    "users.show()"
   ]
  },
  {
   "cell_type": "code",
   "execution_count": 15,
   "metadata": {},
   "outputs": [
    {
     "data": {
      "text/plain": [
       "25"
      ]
     },
     "execution_count": 15,
     "metadata": {},
     "output_type": "execute_result"
    }
   ],
   "source": [
    "users.count()"
   ]
  },
  {
   "cell_type": "code",
   "execution_count": 24,
   "metadata": {},
   "outputs": [
    {
     "name": "stdout",
     "output_type": "stream",
     "text": [
      "root\n",
      " |-- user_id: string (nullable = true)\n",
      " |-- first_name: string (nullable = true)\n",
      " |-- last_name: string (nullable = true)\n",
      " |-- gender: string (nullable = true)\n",
      " |-- level: string (nullable = true)\n",
      "\n"
     ]
    }
   ],
   "source": [
    "users.printSchema()"
   ]
  },
  {
   "cell_type": "code",
   "execution_count": 16,
   "metadata": {},
   "outputs": [],
   "source": [
    "time = spark.read.parquet(os.path.join(output_data, \"time\"))"
   ]
  },
  {
   "cell_type": "code",
   "execution_count": 17,
   "metadata": {},
   "outputs": [
    {
     "name": "stdout",
     "output_type": "stream",
     "text": [
      "+-------------------+----+---+----+-------+----+-----+\n",
      "|         start_time|hour|day|week|weekday|year|month|\n",
      "+-------------------+----+---+----+-------+----+-----+\n",
      "|2018-11-13 13:10:19|  13| 13|  46|      2|2018|   11|\n",
      "|2018-11-13 13:47:41|  13| 13|  46|      2|2018|   11|\n",
      "|2018-11-13 20:19:14|  20| 13|  46|      2|2018|   11|\n",
      "|2018-11-13 20:57:33|  20| 13|  46|      2|2018|   11|\n",
      "|2018-11-13 05:00:06|   5| 13|  46|      2|2018|   11|\n",
      "|2018-11-13 09:29:08|   9| 13|  46|      2|2018|   11|\n",
      "|2018-11-13 16:02:20|  16| 13|  46|      2|2018|   11|\n",
      "|2018-11-13 17:09:49|  17| 13|  46|      2|2018|   11|\n",
      "|2018-11-13 21:01:09|  21| 13|  46|      2|2018|   11|\n",
      "|2018-11-13 08:43:13|   8| 13|  46|      2|2018|   11|\n",
      "|2018-11-13 10:34:37|  10| 13|  46|      2|2018|   11|\n",
      "|2018-11-13 18:38:03|  18| 13|  46|      2|2018|   11|\n",
      "|2018-11-13 20:54:41|  20| 13|  46|      2|2018|   11|\n",
      "|2018-11-13 23:22:55|  23| 13|  46|      2|2018|   11|\n",
      "|2018-11-13 10:49:44|  10| 13|  46|      2|2018|   11|\n",
      "|2018-11-13 13:21:47|  13| 13|  46|      2|2018|   11|\n",
      "|2018-11-13 15:19:49|  15| 13|  46|      2|2018|   11|\n",
      "|2018-11-13 19:44:25|  19| 13|  46|      2|2018|   11|\n",
      "|2018-11-13 23:26:51|  23| 13|  46|      2|2018|   11|\n",
      "|2018-11-13 14:24:57|  14| 13|  46|      2|2018|   11|\n",
      "+-------------------+----+---+----+-------+----+-----+\n",
      "only showing top 20 rows\n",
      "\n"
     ]
    }
   ],
   "source": [
    "time.show()"
   ]
  },
  {
   "cell_type": "code",
   "execution_count": 46,
   "metadata": {},
   "outputs": [
    {
     "data": {
      "text/plain": [
       "339"
      ]
     },
     "execution_count": 46,
     "metadata": {},
     "output_type": "execute_result"
    }
   ],
   "source": [
    "time.count()"
   ]
  },
  {
   "cell_type": "code",
   "execution_count": 23,
   "metadata": {},
   "outputs": [
    {
     "name": "stdout",
     "output_type": "stream",
     "text": [
      "root\n",
      " |-- start_time: timestamp (nullable = true)\n",
      " |-- hour: integer (nullable = true)\n",
      " |-- day: integer (nullable = true)\n",
      " |-- week: integer (nullable = true)\n",
      " |-- weekday: integer (nullable = true)\n",
      " |-- year: integer (nullable = true)\n",
      " |-- month: integer (nullable = true)\n",
      "\n"
     ]
    }
   ],
   "source": [
    "time.printSchema()"
   ]
  },
  {
   "cell_type": "code",
   "execution_count": 19,
   "metadata": {},
   "outputs": [],
   "source": [
    "songplays = spark.read.parquet(os.path.join(output_data, \"songplays\"))"
   ]
  },
  {
   "cell_type": "code",
   "execution_count": 20,
   "metadata": {},
   "outputs": [
    {
     "name": "stdout",
     "output_type": "stream",
     "text": [
      "+-------------------+-------+-----+-------+---------+----------+--------------------+--------------------+-----------+----+-----+\n",
      "|         start_time|user_id|level|song_id|artist_id|session_id|            location|          user_agent|songplay_id|year|month|\n",
      "+-------------------+-------+-----+-------+---------+----------+--------------------+--------------------+-----------+----+-----+\n",
      "|2018-11-13 00:40:37|     66| free|   null|     null|       514|Harrisburg-Carlis...|\"Mozilla/5.0 (Mac...|          0|2018|   11|\n",
      "|2018-11-13 01:12:29|     51| free|   null|     null|       510|Houston-The Woodl...|\"Mozilla/5.0 (Win...|          1|2018|   11|\n",
      "|2018-11-13 03:19:02|      9| free|   null|     null|       379|Eureka-Arcata-For...|Mozilla/5.0 (Wind...|          2|2018|   11|\n",
      "|2018-11-13 03:51:52|     49| free|   null|     null|       506|San Francisco-Oak...|Mozilla/5.0 (Wind...|          3|2018|   11|\n",
      "|2018-11-13 05:00:06|     94| free|   null|     null|       492|Ogden-Clearfield, UT|Mozilla/5.0 (Wind...|          4|2018|   11|\n",
      "|2018-11-13 06:24:25|     60| free|   null|     null|       413|Tampa-St. Petersb...|Mozilla/5.0 (Wind...|          5|2018|   11|\n",
      "|2018-11-13 06:28:56|     60| free|   null|     null|       413|Tampa-St. Petersb...|Mozilla/5.0 (Wind...|          6|2018|   11|\n",
      "|2018-11-13 06:47:03|     60| free|   null|     null|       413|Tampa-St. Petersb...|Mozilla/5.0 (Wind...|          7|2018|   11|\n",
      "|2018-11-13 07:54:25|     25| paid|   null|     null|       442|    Marinette, WI-MI|\"Mozilla/5.0 (Win...|          8|2018|   11|\n",
      "|2018-11-13 07:57:43|     25| paid|   null|     null|       442|    Marinette, WI-MI|\"Mozilla/5.0 (Win...|          9|2018|   11|\n",
      "|2018-11-13 08:01:53|     25| paid|   null|     null|       442|    Marinette, WI-MI|\"Mozilla/5.0 (Win...|         10|2018|   11|\n",
      "|2018-11-13 08:05:04|     25| paid|   null|     null|       442|    Marinette, WI-MI|\"Mozilla/5.0 (Win...|         11|2018|   11|\n",
      "|2018-11-13 08:10:00|     25| paid|   null|     null|       442|    Marinette, WI-MI|\"Mozilla/5.0 (Win...|         12|2018|   11|\n",
      "|2018-11-13 08:12:53|     25| paid|   null|     null|       442|    Marinette, WI-MI|\"Mozilla/5.0 (Win...|         13|2018|   11|\n",
      "|2018-11-13 08:16:36|     25| paid|   null|     null|       442|    Marinette, WI-MI|\"Mozilla/5.0 (Win...|         14|2018|   11|\n",
      "|2018-11-13 08:20:35|     25| paid|   null|     null|       442|    Marinette, WI-MI|\"Mozilla/5.0 (Win...|         15|2018|   11|\n",
      "|2018-11-13 08:22:24|     25| paid|   null|     null|       442|    Marinette, WI-MI|\"Mozilla/5.0 (Win...|         16|2018|   11|\n",
      "|2018-11-13 08:25:17|     25| paid|   null|     null|       442|    Marinette, WI-MI|\"Mozilla/5.0 (Win...|         17|2018|   11|\n",
      "|2018-11-13 08:30:01|     25| paid|   null|     null|       442|    Marinette, WI-MI|\"Mozilla/5.0 (Win...|         18|2018|   11|\n",
      "|2018-11-13 08:37:51|     25| paid|   null|     null|       442|    Marinette, WI-MI|\"Mozilla/5.0 (Win...|         19|2018|   11|\n",
      "+-------------------+-------+-----+-------+---------+----------+--------------------+--------------------+-----------+----+-----+\n",
      "only showing top 20 rows\n",
      "\n"
     ]
    }
   ],
   "source": [
    "songplays.show()"
   ]
  },
  {
   "cell_type": "code",
   "execution_count": 54,
   "metadata": {},
   "outputs": [
    {
     "data": {
      "text/plain": [
       "339"
      ]
     },
     "execution_count": 54,
     "metadata": {},
     "output_type": "execute_result"
    }
   ],
   "source": [
    "songplays.count()"
   ]
  },
  {
   "cell_type": "code",
   "execution_count": 22,
   "metadata": {},
   "outputs": [
    {
     "name": "stdout",
     "output_type": "stream",
     "text": [
      "root\n",
      " |-- start_time: timestamp (nullable = true)\n",
      " |-- user_id: string (nullable = true)\n",
      " |-- level: string (nullable = true)\n",
      " |-- song_id: string (nullable = true)\n",
      " |-- artist_id: string (nullable = true)\n",
      " |-- session_id: long (nullable = true)\n",
      " |-- location: string (nullable = true)\n",
      " |-- user_agent: string (nullable = true)\n",
      " |-- songplay_id: long (nullable = true)\n",
      " |-- year: integer (nullable = true)\n",
      " |-- month: integer (nullable = true)\n",
      "\n"
     ]
    }
   ],
   "source": [
    "songplays.printSchema()"
   ]
  },
  {
   "cell_type": "code",
   "execution_count": null,
   "metadata": {},
   "outputs": [],
   "source": []
  }
 ],
 "metadata": {
  "kernelspec": {
   "display_name": "Python 3",
   "language": "python",
   "name": "python3"
  },
  "language_info": {
   "codemirror_mode": {
    "name": "ipython",
    "version": 3
   },
   "file_extension": ".py",
   "mimetype": "text/x-python",
   "name": "python",
   "nbconvert_exporter": "python",
   "pygments_lexer": "ipython3",
   "version": "3.6.8"
  }
 },
 "nbformat": 4,
 "nbformat_minor": 2
}
